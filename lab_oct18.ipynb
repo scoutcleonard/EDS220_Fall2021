{
 "cells": [
  {
   "cell_type": "code",
   "execution_count": 1,
   "id": "d4ce990d-3072-4b9c-9401-e8b801c18b8f",
   "metadata": {},
   "outputs": [],
   "source": [
    "import pandas as pd"
   ]
  },
  {
   "cell_type": "code",
   "execution_count": 2,
   "id": "091f9183-fcae-423f-97d6-5cb04d0ee6e4",
   "metadata": {},
   "outputs": [],
   "source": [
    "dat = pd.read_csv('wxstation_UCSB_NCDC.csv')"
   ]
  },
  {
   "cell_type": "code",
   "execution_count": null,
   "id": "edef2f1a-9ca0-46db-bc28-09e6d4288c29",
   "metadata": {},
   "outputs": [],
   "source": []
  }
 ],
 "metadata": {
  "kernelspec": {
   "display_name": "Python 3 (ipykernel)",
   "language": "python",
   "name": "python3"
  },
  "language_info": {
   "codemirror_mode": {
    "name": "ipython",
    "version": 3
   },
   "file_extension": ".py",
   "mimetype": "text/x-python",
   "name": "python",
   "nbconvert_exporter": "python",
   "pygments_lexer": "ipython3",
   "version": "3.9.7"
  }
 },
 "nbformat": 4,
 "nbformat_minor": 5
}
